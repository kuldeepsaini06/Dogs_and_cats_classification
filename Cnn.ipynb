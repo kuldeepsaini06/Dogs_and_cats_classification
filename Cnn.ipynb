{
 "cells": [
  {
   "cell_type": "code",
   "execution_count": 1,
   "metadata": {},
   "outputs": [],
   "source": [
    "import pandas as pd\n",
    "import numpy as np\n",
    "import tensorflow as tf\n",
    "from keras.preprocessing.image import ImageDataGenerator"
   ]
  },
  {
   "cell_type": "code",
   "execution_count": 2,
   "metadata": {},
   "outputs": [],
   "source": [
    "train_data= ImageDataGenerator(rescale=1./255,\n",
    "                              horizontal_flip=True,\n",
    "                              vertical_flip=True,\n",
    "                              zoom_range=0.2,\n",
    "                              shear_range=0.2,\n",
    "                               width_shift_range=0.2,\n",
    "                               height_shift_range=0.2)"
   ]
  },
  {
   "cell_type": "code",
   "execution_count": 3,
   "metadata": {},
   "outputs": [],
   "source": [
    "test_data=ImageDataGenerator(rescale=1./255)"
   ]
  },
  {
   "cell_type": "code",
   "execution_count": 4,
   "metadata": {},
   "outputs": [
    {
     "name": "stdout",
     "output_type": "stream",
     "text": [
      "Found 4000 images belonging to 2 classes.\n"
     ]
    }
   ],
   "source": [
    "training_set= train_data.flow_from_directory('dataset/training_set',target_size=(64,64),batch_size=30)"
   ]
  },
  {
   "cell_type": "code",
   "execution_count": 5,
   "metadata": {},
   "outputs": [
    {
     "name": "stdout",
     "output_type": "stream",
     "text": [
      "Found 2000 images belonging to 2 classes.\n"
     ]
    }
   ],
   "source": [
    "test_set=test_data.flow_from_directory('dataset/test_set/',target_size=(64,64),batch_size=30)"
   ]
  },
  {
   "cell_type": "code",
   "execution_count": 6,
   "metadata": {},
   "outputs": [],
   "source": [
    "cnn= tf.keras.Sequential([\n",
    "    tf.keras.layers.Conv2D(30,activation='relu',input_shape=(64,64,3),strides=(2,2),kernel_size=3),\n",
    "    tf.keras.layers.MaxPool2D(pool_size=(2, 2)),\n",
    "    tf.keras.layers.Conv2D(60,activation='relu',kernel_size=3),\n",
    "    tf.keras.layers.MaxPool2D(pool_size=(2,2)),\n",
    "    tf.keras.layers.Conv2D(90,activation='relu',kernel_size=3),\n",
    "    tf.keras.layers.MaxPool2D(pool_size=(2,2)),\n",
    "    tf.keras.layers.Flatten(),\n",
    "    tf.keras.layers.Dense(300,activation='relu'),\n",
    "    tf.keras.layers.Dense(2,activation='sigmoid')\n",
    "])"
   ]
  },
  {
   "cell_type": "code",
   "execution_count": 7,
   "metadata": {},
   "outputs": [],
   "source": [
    "opti= 'adam'\n",
    "loss= 'binary_crossentropy'\n",
    "metrics= ['accuracy']\n",
    "epoch=25\n",
    "batch_size=32"
   ]
  },
  {
   "cell_type": "code",
   "execution_count": 8,
   "metadata": {},
   "outputs": [],
   "source": [
    "cnn.compile(optimizer=opti,loss=loss,metrics=metrics)"
   ]
  },
  {
   "cell_type": "code",
   "execution_count": 9,
   "metadata": {},
   "outputs": [
    {
     "name": "stdout",
     "output_type": "stream",
     "text": [
      "Epoch 1/25\n",
      "134/134 [==============================] - 35s 258ms/step - loss: 0.6947 - accuracy: 0.5116 - val_loss: 0.7227 - val_accuracy: 0.5060\n",
      "Epoch 2/25\n",
      "134/134 [==============================] - 34s 254ms/step - loss: 0.6864 - accuracy: 0.5464 - val_loss: 0.6718 - val_accuracy: 0.5725\n",
      "Epoch 3/25\n",
      "134/134 [==============================] - 32s 242ms/step - loss: 0.6564 - accuracy: 0.6158 - val_loss: 0.6573 - val_accuracy: 0.6040\n",
      "Epoch 4/25\n",
      "134/134 [==============================] - 32s 237ms/step - loss: 0.6561 - accuracy: 0.6151 - val_loss: 0.6556 - val_accuracy: 0.6130\n",
      "Epoch 5/25\n",
      "134/134 [==============================] - 32s 238ms/step - loss: 0.6473 - accuracy: 0.6189 - val_loss: 0.6532 - val_accuracy: 0.6400\n",
      "Epoch 6/25\n",
      "134/134 [==============================] - 32s 238ms/step - loss: 0.6374 - accuracy: 0.6320 - val_loss: 0.6648 - val_accuracy: 0.6265\n",
      "Epoch 7/25\n",
      "134/134 [==============================] - 32s 238ms/step - loss: 0.6313 - accuracy: 0.6385 - val_loss: 0.6265 - val_accuracy: 0.6575\n",
      "Epoch 8/25\n",
      "134/134 [==============================] - 32s 237ms/step - loss: 0.6347 - accuracy: 0.6316 - val_loss: 0.7442 - val_accuracy: 0.5885\n",
      "Epoch 9/25\n",
      "134/134 [==============================] - 32s 237ms/step - loss: 0.6276 - accuracy: 0.6519 - val_loss: 0.6666 - val_accuracy: 0.6215\n",
      "Epoch 10/25\n",
      "134/134 [==============================] - 32s 237ms/step - loss: 0.6121 - accuracy: 0.6709 - val_loss: 0.6275 - val_accuracy: 0.6495\n",
      "Epoch 11/25\n",
      "134/134 [==============================] - 32s 238ms/step - loss: 0.6217 - accuracy: 0.6544 - val_loss: 0.6076 - val_accuracy: 0.6635\n",
      "Epoch 12/25\n",
      "134/134 [==============================] - 32s 239ms/step - loss: 0.6109 - accuracy: 0.6670 - val_loss: 0.6003 - val_accuracy: 0.6865\n",
      "Epoch 13/25\n",
      "134/134 [==============================] - 32s 237ms/step - loss: 0.6009 - accuracy: 0.6769 - val_loss: 0.6331 - val_accuracy: 0.6510\n",
      "Epoch 14/25\n",
      "134/134 [==============================] - 32s 238ms/step - loss: 0.6033 - accuracy: 0.6561 - val_loss: 0.6539 - val_accuracy: 0.6330\n",
      "Epoch 15/25\n",
      "134/134 [==============================] - 32s 237ms/step - loss: 0.5738 - accuracy: 0.6988 - val_loss: 0.6764 - val_accuracy: 0.6295\n",
      "Epoch 16/25\n",
      "134/134 [==============================] - 32s 236ms/step - loss: 0.5941 - accuracy: 0.6758 - val_loss: 0.5814 - val_accuracy: 0.7090\n",
      "Epoch 17/25\n",
      "134/134 [==============================] - 32s 236ms/step - loss: 0.5867 - accuracy: 0.6920 - val_loss: 0.5758 - val_accuracy: 0.7020\n",
      "Epoch 18/25\n",
      "134/134 [==============================] - 32s 237ms/step - loss: 0.5804 - accuracy: 0.6913 - val_loss: 0.5947 - val_accuracy: 0.6840\n",
      "Epoch 19/25\n",
      "134/134 [==============================] - 32s 237ms/step - loss: 0.5788 - accuracy: 0.7013 - val_loss: 0.5668 - val_accuracy: 0.7095\n",
      "Epoch 20/25\n",
      "134/134 [==============================] - 32s 236ms/step - loss: 0.5589 - accuracy: 0.7107 - val_loss: 0.5919 - val_accuracy: 0.6840\n",
      "Epoch 21/25\n",
      "134/134 [==============================] - 32s 238ms/step - loss: 0.5798 - accuracy: 0.6963 - val_loss: 0.5680 - val_accuracy: 0.7100\n",
      "Epoch 22/25\n",
      "134/134 [==============================] - 32s 237ms/step - loss: 0.5836 - accuracy: 0.6958 - val_loss: 0.5609 - val_accuracy: 0.7160\n",
      "Epoch 23/25\n",
      "134/134 [==============================] - 32s 238ms/step - loss: 0.5593 - accuracy: 0.7063 - val_loss: 0.5824 - val_accuracy: 0.6845\n",
      "Epoch 24/25\n",
      "134/134 [==============================] - 32s 238ms/step - loss: 0.5632 - accuracy: 0.6946 - val_loss: 0.5608 - val_accuracy: 0.7170\n",
      "Epoch 25/25\n",
      "134/134 [==============================] - 32s 237ms/step - loss: 0.5649 - accuracy: 0.7030 - val_loss: 0.5602 - val_accuracy: 0.7145\n"
     ]
    }
   ],
   "source": [
    "h= cnn.fit(training_set,validation_data=test_set,epochs=epoch,batch_size=batch_size)"
   ]
  },
  {
   "cell_type": "code",
   "execution_count": 10,
   "metadata": {},
   "outputs": [
    {
     "data": {
      "image/png": "[encoded data removed]",
      "text/plain": [
       "<Figure size 432x288 with 1 Axes>"
      ]
     },
     "metadata": {
      "needs_background": "light"
     },
     "output_type": "display_data"
    },
    {
     "data": {
      "image/png": "[encoded data removed]",
      "text/plain": [
       "<Figure size 432x288 with 1 Axes>"
      ]
     },
     "metadata": {
      "needs_background": "light"
     },
     "output_type": "display_data"
    }
   ],
   "source": [
    "import matplotlib.pyplot as plt\n",
    "\n",
    "N= np.arange(0,epoch)\n",
    "accuracy= h.history['accuracy']\n",
    "loss= h.history['loss']\n",
    "val_acc= h.history['val_accuracy']\n",
    "val_loss= h.history['val_loss']\n",
    "\n",
    "\n",
    "plt.figure()\n",
    "plt.plot(N,loss,label= 'Loss')\n",
    "plt.plot(N,val_loss,label='Val_loss')\n",
    "plt.title('Val_loss vs Loss')\n",
    "plt.xlabel('Number of Epoch')\n",
    "plt.ylabel('Loss vs Val_loss')\n",
    "\n",
    "plt.figure()\n",
    "plt.plot(N,accuracy,label= 'Accuracy')\n",
    "plt.plot(N,val_acc,label='Val_Accuracy')\n",
    "plt.title('Val_Accurac vs Accurcy')\n",
    "plt.xlabel('Number of Epoch')\n",
    "plt.ylabel('Accuracy vs Val_accuracy')\n",
    "plt.legend();"
   ]
  },
  {
   "cell_type": "code",
   "execution_count": 11,
   "metadata": {},
   "outputs": [],
   "source": [
    "import cv2\n",
    "\n",
    "width = 64\n",
    "height = 64\n",
    "image = cv2.imread(\"dataset/single_prediction/cat_or_dog_1.jpg\")\n",
    "output = image.copy()\n",
    "image = cv2.resize(image, (width, height))\n",
    "image = image.astype(\"float\") / 255.0\n",
    "\n",
    "image = image.reshape((1, image.shape[0], image.shape[1], image.shape[2]))\n",
    "\n",
    "preds = cnn.predict(image,batch_size=10)"
   ]
  },
  {
   "cell_type": "code",
   "execution_count": 12,
   "metadata": {},
   "outputs": [],
   "source": [
    "i = preds.argmax(axis=1)[0]"
   ]
  },
  {
   "cell_type": "code",
   "execution_count": 13,
   "metadata": {},
   "outputs": [
    {
     "name": "stdout",
     "output_type": "stream",
     "text": [
      "is a dog\n"
     ]
    }
   ],
   "source": [
    "if i>0.5:\n",
    "    print( \"is a cat\")\n",
    "    \n",
    "else:\n",
    "    print(\"is a dog\")"
   ]
  },
  {
   "cell_type": "code",
   "execution_count": 14,
   "metadata": {},
   "outputs": [
    {
     "name": "stdout",
     "output_type": "stream",
     "text": [
      "is a dog\n"
     ]
    }
   ],
   "source": [
    "width = 64\n",
    "height = 64\n",
    "image = cv2.imread(\"dataset/single_prediction/cat_or_dog_2.jpg\")\n",
    "output = image.copy()\n",
    "image = cv2.resize(image, (width, height))\n",
    "image = image.astype(\"float\") / 255.0\n",
    "\n",
    "image = image.reshape((1, image.shape[0], image.shape[1], image.shape[2]))\n",
    "\n",
    "preds = cnn.predict(image,batch_size=10)\n",
    "i = preds.argmax(axis=1)[0]\n",
    "\n",
    "if i>0.5:\n",
    "    print( \"is a cat\")\n",
    "    \n",
    "else:\n",
    "    print(\"is a dog\")"
   ]
  },
  {
   "cell_type": "code",
   "execution_count": 15,
   "metadata": {},
   "outputs": [
    {
     "name": "stdout",
     "output_type": "stream",
     "text": [
      "is a cat\n"
     ]
    }
   ],
   "source": [
    "width = 64\n",
    "height = 64\n",
    "image = cv2.imread(\"dataset/single_prediction/cat.2000.jpg\")\n",
    "output = image.copy()\n",
    "image = cv2.resize(image, (width, height))\n",
    "image = image.astype(\"float\") / 255.0\n",
    "\n",
    "image = image.reshape((1, image.shape[0], image.shape[1], image.shape[2]))\n",
    "\n",
    "preds = cnn.predict(image)\n",
    "i = preds.argmax(axis=1)[0]\n",
    "\n",
    "if i>0.5:\n",
    "    print( \"is a cat\")\n",
    "    \n",
    "else:\n",
    "    print(\"is a dog\")"
   ]
  },
  {
   "cell_type": "code",
   "execution_count": 16,
   "metadata": {},
   "outputs": [
    {
     "name": "stdout",
     "output_type": "stream",
     "text": [
      "is a cat\n"
     ]
    }
   ],
   "source": [
    "width = 64\n",
    "height = 64\n",
    "image = cv2.imread(\"dataset/single_prediction/cat.2005.jpg\")\n",
    "output = image.copy()\n",
    "image = cv2.resize(image, (width, height))\n",
    "image = image.astype(\"float\") / 255.0\n",
    "\n",
    "image = image.reshape((1, image.shape[0], image.shape[1], image.shape[2]))\n",
    "\n",
    "preds = cnn.predict(image)\n",
    "i = preds.argmax(axis=1)[0]\n",
    "\n",
    "if i>0.5:\n",
    "    print( \"is a cat\")\n",
    "    \n",
    "else:\n",
    "    print(\"is a dog\")"
   ]
  },
  {
   "cell_type": "code",
   "execution_count": 17,
   "metadata": {},
   "outputs": [
    {
     "name": "stdout",
     "output_type": "stream",
     "text": [
      "is a dog\n"
     ]
    }
   ],
   "source": [
    "width = 64\n",
    "height = 64\n",
    "image = cv2.imread(\"dataset/single_prediction/dog.2009.jpg\")\n",
    "output = image.copy()\n",
    "image = cv2.resize(image, (width, height))\n",
    "image = image.astype(\"float\") / 255.0\n",
    "\n",
    "image = image.reshape((1, image.shape[0], image.shape[1], image.shape[2]))\n",
    "\n",
    "preds = cnn.predict(image)\n",
    "i = preds.argmax(axis=1)[0]\n",
    "\n",
    "if i>0.5:\n",
    "    print( \"is a cat\")\n",
    "    \n",
    "else:\n",
    "    print(\"is a dog\")"
   ]
  },
  {
   "cell_type": "code",
   "execution_count": null,
   "metadata": {},
   "outputs": [],
   "source": []
  }
 ],
 "metadata": {
  "kernelspec": {
   "display_name": "Python 3",
   "language": "python",
   "name": "python3"
  },
  "language_info": {
   "codemirror_mode": {
    "name": "ipython",
    "version": 3
   },
   "file_extension": ".py",
   "mimetype": "text/x-python",
   "name": "python",
   "nbconvert_exporter": "python",
   "pygments_lexer": "ipython3",
   "version": "3.8.5"
  }
 },
 "nbformat": 4,
 "nbformat_minor": 4
}
